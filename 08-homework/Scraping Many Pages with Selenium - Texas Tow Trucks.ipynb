{
 "cells": [
  {
   "cell_type": "markdown",
   "metadata": {},
   "source": [
    "# Texas Tow Trucks (`.apply` and Selenium)\n",
    "\n",
    "We're going to scrape some [tow trucks in Texas](https://www.tdlr.texas.gov/tools_search/).\n",
    "\n",
    "Try searching for the TLDR Number `006179570C`."
   ]
  },
  {
   "cell_type": "markdown",
   "metadata": {},
   "source": [
    "## Preparation"
   ]
  },
  {
   "cell_type": "markdown",
   "metadata": {},
   "source": [
    "### What URL will Selenium be starting on?\n",
    "\n",
    "- Tip: The answer is *not* `https://www.tdlr.texas.gov/tools_search/`"
   ]
  },
  {
   "cell_type": "code",
   "execution_count": 1,
   "metadata": {
    "collapsed": true
   },
   "outputs": [],
   "source": [
    "# yes, it is!\n",
    "# https://www.tdlr.texas.gov/tools_search/mccs_search.asp"
   ]
  },
  {
   "cell_type": "markdown",
   "metadata": {},
   "source": [
    "### Why are you using Selenium for this?"
   ]
  },
  {
   "cell_type": "code",
   "execution_count": 2,
   "metadata": {
    "collapsed": true
   },
   "outputs": [],
   "source": [
    "# just for fun"
   ]
  },
  {
   "cell_type": "markdown",
   "metadata": {},
   "source": [
    "## Scrape this page\n",
    "\n",
    "Scrape this page, displaying the\n",
    "\n",
    "- The business name\n",
    "- Phone number\n",
    "- License status\n",
    "- Physical address\n",
    "\n",
    "**You should know how to do `.post` requests by now.**\n",
    "\n",
    "- *TIP: For physical address, **ask me on the board** and I'll give you a secret trick about situations like this.*"
   ]
  },
  {
   "cell_type": "code",
   "execution_count": 3,
   "metadata": {
    "collapsed": true
   },
   "outputs": [],
   "source": [
    "from selenium import webdriver\n",
    "from selenium.webdriver.support.ui import Select\n",
    "from bs4 import BeautifulSoup\n",
    "import pandas as pd"
   ]
  },
  {
   "cell_type": "code",
   "execution_count": 4,
   "metadata": {
    "collapsed": true
   },
   "outputs": [],
   "source": [
    "driver = webdriver.Chrome()"
   ]
  },
  {
   "cell_type": "code",
   "execution_count": 5,
   "metadata": {
    "collapsed": true
   },
   "outputs": [],
   "source": [
    "driver.get('https://www.tdlr.texas.gov/tools_search/mccs_search.asp')"
   ]
  },
  {
   "cell_type": "code",
   "execution_count": 6,
   "metadata": {
    "collapsed": true
   },
   "outputs": [],
   "source": [
    "driver.find_element_by_xpath('//*[@id=\"mcrdata\"]').send_keys('006179570C')"
   ]
  },
  {
   "cell_type": "code",
   "execution_count": 7,
   "metadata": {
    "collapsed": true
   },
   "outputs": [],
   "source": [
    "driver.find_element_by_xpath('//*[@id=\"submit3\"]').click()"
   ]
  },
  {
   "cell_type": "code",
   "execution_count": 8,
   "metadata": {
    "collapsed": true
   },
   "outputs": [],
   "source": [
    "doc = BeautifulSoup(driver.page_source, 'html.parser')"
   ]
  },
  {
   "cell_type": "code",
   "execution_count": 9,
   "metadata": {},
   "outputs": [
    {
     "data": {
      "text/plain": [
       "{'business name': 'B.D. SMITH TOWING',\n",
       " 'license status': 'Active',\n",
       " 'phone number': '8173330706',\n",
       " 'physical address': '13619 BRETT JACKSON RD., FORT WORTH,\\xa0TX.\\xa076179'}"
      ]
     },
     "execution_count": 9,
     "metadata": {},
     "output_type": "execute_result"
    }
   ],
   "source": [
    "new_license = {\n",
    "    'business name': doc.find_all('td')[5].text[8:],\n",
    "    'phone number': doc.find_all('td')[9].text[9:],\n",
    "    'license status': doc.find_all('td')[12].text[9:],\n",
    "    'physical address': doc.find('strong', string='Physical:').find_next_siblings(text=True)[0].strip() + ', ' + doc.find('strong', string='Physical:').find_next_siblings(text=True)[1].strip()\n",
    "}\n",
    "\n",
    "new_license"
   ]
  },
  {
   "cell_type": "markdown",
   "metadata": {},
   "source": [
    "# Using .apply to find data about SEVERAL tow truck companies\n",
    "\n",
    "The file `trucks-subset.csv` has information about the trucks, we'll use it to find the pages to scrape.\n",
    "\n",
    "### Open up `trucks-subset.csv` and save it into a dataframe"
   ]
  },
  {
   "cell_type": "code",
   "execution_count": 10,
   "metadata": {},
   "outputs": [
    {
     "data": {
      "text/html": [
       "<div>\n",
       "<style>\n",
       "    .dataframe thead tr:only-child th {\n",
       "        text-align: right;\n",
       "    }\n",
       "\n",
       "    .dataframe thead th {\n",
       "        text-align: left;\n",
       "    }\n",
       "\n",
       "    .dataframe tbody tr th {\n",
       "        vertical-align: top;\n",
       "    }\n",
       "</style>\n",
       "<table border=\"1\" class=\"dataframe\">\n",
       "  <thead>\n",
       "    <tr style=\"text-align: right;\">\n",
       "      <th></th>\n",
       "      <th>TDLR Number</th>\n",
       "    </tr>\n",
       "  </thead>\n",
       "  <tbody>\n",
       "    <tr>\n",
       "      <th>0</th>\n",
       "      <td>006507931C</td>\n",
       "    </tr>\n",
       "    <tr>\n",
       "      <th>1</th>\n",
       "      <td>006179570C</td>\n",
       "    </tr>\n",
       "    <tr>\n",
       "      <th>2</th>\n",
       "      <td>006502097C</td>\n",
       "    </tr>\n",
       "  </tbody>\n",
       "</table>\n",
       "</div>"
      ],
      "text/plain": [
       "  TDLR Number\n",
       "0  006507931C\n",
       "1  006179570C\n",
       "2  006502097C"
      ]
     },
     "execution_count": 10,
     "metadata": {},
     "output_type": "execute_result"
    }
   ],
   "source": [
    "df = pd.read_csv('trucks-subset.csv')\n",
    "df"
   ]
  },
  {
   "cell_type": "markdown",
   "metadata": {},
   "source": [
    "### Open up `trucks-subset.csv` in a text editor, then look at your dataframe. Is something different about them? If so, make them match.\n",
    "\n",
    "- *TIP: I can help with this.*"
   ]
  },
  {
   "cell_type": "code",
   "execution_count": 11,
   "metadata": {
    "collapsed": true
   },
   "outputs": [],
   "source": [
    "# nope, everything's fine"
   ]
  },
  {
   "cell_type": "markdown",
   "metadata": {},
   "source": [
    "## Use `.apply` to go through each row of the dataset, printing out information about each tow truck company.\n",
    "\n",
    "- The business name\n",
    "- Phone number\n",
    "- License status\n",
    "- Physical address\n",
    "\n",
    "Just print it out for now.\n",
    "\n",
    "- *TIP: use .apply and a function*\n",
    "- *TIP: If you need help with .apply, look at the \"Using apply in pandas\" notebook *"
   ]
  },
  {
   "cell_type": "code",
   "execution_count": 12,
   "metadata": {},
   "outputs": [
    {
     "name": "stdout",
     "output_type": "stream",
     "text": [
      "business name: AUGUSTUS E SMITH\n",
      "phone number: 9032276464\n",
      "license status: Active\n",
      "physical address: 103 N MAIN ST, BONHAM, TX. 75418\n",
      "----------\n",
      "business name: B.D. SMITH TOWING\n",
      "phone number: 8173330706\n",
      "license status: Active\n",
      "physical address: 13619 BRETT JACKSON RD., FORT WORTH, TX. 76179\n",
      "----------\n",
      "business name: BARRY MICHAEL SMITH\n",
      "phone number: 8066544404\n",
      "license status: Active\n",
      "physical address: 4501 W CEMETERY RD, CANYON, TX. 79015\n",
      "----------\n"
     ]
    },
    {
     "data": {
      "text/plain": [
       "0    None\n",
       "1    None\n",
       "2    None\n",
       "dtype: object"
      ]
     },
     "execution_count": 12,
     "metadata": {},
     "output_type": "execute_result"
    }
   ],
   "source": [
    "def do_the_stuff(row):\n",
    "    driver.get('https://www.tdlr.texas.gov/tools_search/mccs_display.asp?mcrnumber=' + row['TDLR Number'])\n",
    "    doc = BeautifulSoup(driver.page_source, 'html.parser')\n",
    "    print('business name:', doc.find_all('td')[5].text[8:])\n",
    "    print('phone number:', doc.find_all('td')[9].text[9:])\n",
    "    print('license status:', doc.find_all('td')[12].text[9:])\n",
    "    print('physical address:', doc.find('strong', string='Physical:').find_next_siblings(text=True)[0].strip() + ', ' + doc.find('strong', string='Physical:').find_next_siblings(text=True)[1].strip())\n",
    "    print('----------')\n",
    "\n",
    "df.apply(do_the_stuff, axis=1)"
   ]
  },
  {
   "cell_type": "markdown",
   "metadata": {},
   "source": [
    "## Scrape the following information for each row of the dataset, and save it into new columns in your dataframe.\n",
    "\n",
    "- The business name\n",
    "- Phone number\n",
    "- License status\n",
    "- Physical address\n",
    "\n",
    "It's basically what we did before, but using the function a little differently.\n",
    "\n",
    "- *TIP: Use .apply and a function*\n",
    "- *TIP: Remember to use `return`*"
   ]
  },
  {
   "cell_type": "code",
   "execution_count": 13,
   "metadata": {
    "collapsed": true
   },
   "outputs": [],
   "source": [
    "def do_the_stuff_right(row):\n",
    "    driver.get('https://www.tdlr.texas.gov/tools_search/mccs_display.asp?mcrnumber=' + row['TDLR Number'])\n",
    "    doc = BeautifulSoup(driver.page_source, 'html.parser')\n",
    "    return pd.Series({\n",
    "        'business name': doc.find_all('td')[5].text[8:],\n",
    "        'phone number': doc.find_all('td')[9].text[9:],\n",
    "        'license status': doc.find_all('td')[12].text[9:],\n",
    "        'physical address': doc.find('strong', string='Physical:').find_next_siblings(text=True)[0].strip() + ', ' + doc.find('strong', string='Physical:').find_next_siblings(text=True)[1].strip()\n",
    "    })\n",
    "\n",
    "df = df.apply(do_the_stuff_right, axis=1).join(df)"
   ]
  },
  {
   "cell_type": "markdown",
   "metadata": {},
   "source": [
    "### Save your dataframe as a CSV"
   ]
  },
  {
   "cell_type": "code",
   "execution_count": 14,
   "metadata": {
    "collapsed": true
   },
   "outputs": [],
   "source": [
    "df.to_csv('trucks-results.csv', index=False)"
   ]
  },
  {
   "cell_type": "markdown",
   "metadata": {},
   "source": [
    "### Re-open your dataframe to confirm you didn't save any extra weird columns"
   ]
  },
  {
   "cell_type": "code",
   "execution_count": 15,
   "metadata": {},
   "outputs": [
    {
     "data": {
      "text/html": [
       "<div>\n",
       "<style>\n",
       "    .dataframe thead tr:only-child th {\n",
       "        text-align: right;\n",
       "    }\n",
       "\n",
       "    .dataframe thead th {\n",
       "        text-align: left;\n",
       "    }\n",
       "\n",
       "    .dataframe tbody tr th {\n",
       "        vertical-align: top;\n",
       "    }\n",
       "</style>\n",
       "<table border=\"1\" class=\"dataframe\">\n",
       "  <thead>\n",
       "    <tr style=\"text-align: right;\">\n",
       "      <th></th>\n",
       "      <th>business name</th>\n",
       "      <th>license status</th>\n",
       "      <th>phone number</th>\n",
       "      <th>physical address</th>\n",
       "      <th>TDLR Number</th>\n",
       "    </tr>\n",
       "  </thead>\n",
       "  <tbody>\n",
       "    <tr>\n",
       "      <th>0</th>\n",
       "      <td>AUGUSTUS E SMITH</td>\n",
       "      <td>Active</td>\n",
       "      <td>9032276464</td>\n",
       "      <td>103 N MAIN ST, BONHAM, TX. 75418</td>\n",
       "      <td>006507931C</td>\n",
       "    </tr>\n",
       "    <tr>\n",
       "      <th>1</th>\n",
       "      <td>B.D. SMITH TOWING</td>\n",
       "      <td>Active</td>\n",
       "      <td>8173330706</td>\n",
       "      <td>13619 BRETT JACKSON RD., FORT WORTH, TX. 76179</td>\n",
       "      <td>006179570C</td>\n",
       "    </tr>\n",
       "    <tr>\n",
       "      <th>2</th>\n",
       "      <td>BARRY MICHAEL SMITH</td>\n",
       "      <td>Active</td>\n",
       "      <td>8066544404</td>\n",
       "      <td>4501 W CEMETERY RD, CANYON, TX. 79015</td>\n",
       "      <td>006502097C</td>\n",
       "    </tr>\n",
       "  </tbody>\n",
       "</table>\n",
       "</div>"
      ],
      "text/plain": [
       "         business name license status  phone number  \\\n",
       "0     AUGUSTUS E SMITH         Active    9032276464   \n",
       "1    B.D. SMITH TOWING         Active    8173330706   \n",
       "2  BARRY MICHAEL SMITH         Active    8066544404   \n",
       "\n",
       "                                 physical address TDLR Number  \n",
       "0                103 N MAIN ST, BONHAM, TX. 75418  006507931C  \n",
       "1  13619 BRETT JACKSON RD., FORT WORTH, TX. 76179  006179570C  \n",
       "2           4501 W CEMETERY RD, CANYON, TX. 79015  006502097C  "
      ]
     },
     "execution_count": 15,
     "metadata": {},
     "output_type": "execute_result"
    }
   ],
   "source": [
    "pd.read_csv('trucks-results.csv')"
   ]
  },
  {
   "cell_type": "markdown",
   "metadata": {},
   "source": [
    "## Repeat this process for the entire `tow-trucks.csv` file"
   ]
  },
  {
   "cell_type": "code",
   "execution_count": 16,
   "metadata": {},
   "outputs": [
    {
     "data": {
      "text/html": [
       "<div>\n",
       "<style>\n",
       "    .dataframe thead tr:only-child th {\n",
       "        text-align: right;\n",
       "    }\n",
       "\n",
       "    .dataframe thead th {\n",
       "        text-align: left;\n",
       "    }\n",
       "\n",
       "    .dataframe tbody tr th {\n",
       "        vertical-align: top;\n",
       "    }\n",
       "</style>\n",
       "<table border=\"1\" class=\"dataframe\">\n",
       "  <thead>\n",
       "    <tr style=\"text-align: right;\">\n",
       "      <th></th>\n",
       "      <th>business name</th>\n",
       "      <th>license status</th>\n",
       "      <th>phone number</th>\n",
       "      <th>physical address</th>\n",
       "      <th>TDLR Number</th>\n",
       "    </tr>\n",
       "  </thead>\n",
       "  <tbody>\n",
       "    <tr>\n",
       "      <th>0</th>\n",
       "      <td>AUGUSTUS E SMITH</td>\n",
       "      <td>Active</td>\n",
       "      <td>9032276464</td>\n",
       "      <td>103 N MAIN ST, BONHAM, TX. 75418</td>\n",
       "      <td>006507931C</td>\n",
       "    </tr>\n",
       "    <tr>\n",
       "      <th>1</th>\n",
       "      <td>B.D. SMITH TOWING</td>\n",
       "      <td>Active</td>\n",
       "      <td>8173330706</td>\n",
       "      <td>13619 BRETT JACKSON RD., FORT WORTH, TX. 76179</td>\n",
       "      <td>006179570C</td>\n",
       "    </tr>\n",
       "    <tr>\n",
       "      <th>2</th>\n",
       "      <td>BARRY MICHAEL SMITH</td>\n",
       "      <td>Active</td>\n",
       "      <td>8066544404</td>\n",
       "      <td>4501 W CEMETERY RD, CANYON, TX. 79015</td>\n",
       "      <td>006502097C</td>\n",
       "    </tr>\n",
       "    <tr>\n",
       "      <th>3</th>\n",
       "      <td>HEATH SMITH</td>\n",
       "      <td>Expired</td>\n",
       "      <td>940-552-0687</td>\n",
       "      <td>1529  WILBARGER ST, VERNON, TX. 76384</td>\n",
       "      <td>006494912C</td>\n",
       "    </tr>\n",
       "    <tr>\n",
       "      <th>4</th>\n",
       "      <td>HEATH SMITH</td>\n",
       "      <td>Expired</td>\n",
       "      <td>9405520687</td>\n",
       "      <td>1529  WILBARGER ST, VERNON, TX. 76384</td>\n",
       "      <td>0649468VSF</td>\n",
       "    </tr>\n",
       "    <tr>\n",
       "      <th>5</th>\n",
       "      <td>HYSMITH AUTOMOTIVE</td>\n",
       "      <td>NaN</td>\n",
       "      <td>icer:   ASHLEY ERIN HYSMITH                   ...</td>\n",
       "      <td>1210 US 380 BYPASS, GRAHAM, TX. 76450</td>\n",
       "      <td>006448786C</td>\n",
       "    </tr>\n",
       "    <tr>\n",
       "      <th>6</th>\n",
       "      <td>HYSMITH AUTOMOTIVE &amp; TRUCK REPAIR INC</td>\n",
       "      <td>NaN</td>\n",
       "      <td>icer:   WILLIAM THOMAS HYSMITH                ...</td>\n",
       "      <td>927  LOVING HWY, GRAHAM, TX. 76450</td>\n",
       "      <td>0648444VSF</td>\n",
       "    </tr>\n",
       "    <tr>\n",
       "      <th>7</th>\n",
       "      <td>HYSMITH AUTOMOTIVE &amp; TRUCK REPAIR INC</td>\n",
       "      <td>NaN</td>\n",
       "      <td>icer:   ASHLEY ERIN HYSMITH                   ...</td>\n",
       "      <td>1210 380 BYPASS, GRAHAM, TX. 76450</td>\n",
       "      <td>0651667VSF</td>\n",
       "    </tr>\n",
       "    <tr>\n",
       "      <th>8</th>\n",
       "      <td>JEFF &amp; WENDY SMITH</td>\n",
       "      <td>NaN</td>\n",
       "      <td>icer:   WENDY SMITH                           ...</td>\n",
       "      <td>10842 FM 2138 N, JACKSONVILLE, TX. 75766</td>\n",
       "      <td>006017767C</td>\n",
       "    </tr>\n",
       "    <tr>\n",
       "      <th>9</th>\n",
       "      <td>JEFF SMITH</td>\n",
       "      <td>Active</td>\n",
       "      <td>8324354670</td>\n",
       "      <td>4338  HARVEY RD, CROSBY, TX. 77532</td>\n",
       "      <td>006495492C</td>\n",
       "    </tr>\n",
       "    <tr>\n",
       "      <th>10</th>\n",
       "      <td>LUTHER SMITH</td>\n",
       "      <td>Active</td>\n",
       "      <td>281-838-9435</td>\n",
       "      <td>20001  FM 2100 RD, CROSBY, TX. 77532</td>\n",
       "      <td>006518521C</td>\n",
       "    </tr>\n",
       "    <tr>\n",
       "      <th>11</th>\n",
       "      <td>MAURICE SMITH</td>\n",
       "      <td>Active</td>\n",
       "      <td>7134544462</td>\n",
       "      <td>5505  SAVANNAH WOODS LN, ROSHARON, TX. 77583</td>\n",
       "      <td>006521662C</td>\n",
       "    </tr>\n",
       "    <tr>\n",
       "      <th>12</th>\n",
       "      <td>METRO LOCKSMITHS INC</td>\n",
       "      <td>NaN</td>\n",
       "      <td>icer:   SOCORRO M ARREOLA                     ...</td>\n",
       "      <td>200 S WALL ST, ITASCA, TX. 76055</td>\n",
       "      <td>006482451C</td>\n",
       "    </tr>\n",
       "    <tr>\n",
       "      <th>13</th>\n",
       "      <td>RICKY SMITH</td>\n",
       "      <td>Suspended</td>\n",
       "      <td>9364997917</td>\n",
       "      <td>115 CARTWRIGHT, CONROE, TX. 77301</td>\n",
       "      <td>0646264VSF</td>\n",
       "    </tr>\n",
       "    <tr>\n",
       "      <th>14</th>\n",
       "      <td>RICKY SMITH</td>\n",
       "      <td>Suspended</td>\n",
       "      <td>9364997917</td>\n",
       "      <td>11426  FOSTORIA RD, CLEVELAND, TX. 77328</td>\n",
       "      <td>0650690VSF</td>\n",
       "    </tr>\n",
       "    <tr>\n",
       "      <th>15</th>\n",
       "      <td>SAMMY L SMITH</td>\n",
       "      <td>Expired</td>\n",
       "      <td>3252159496</td>\n",
       "      <td>355 N 16TH ST, JUNCTION, TX. 76849</td>\n",
       "      <td>006505010C</td>\n",
       "    </tr>\n",
       "    <tr>\n",
       "      <th>16</th>\n",
       "      <td>SMITH BRO. WRECKER SERVICE</td>\n",
       "      <td>NaN</td>\n",
       "      <td>icer:   GLEN SMITH                            ...</td>\n",
       "      <td>10842 FM 2138 N, JACKSONVILLE, TX. 75766</td>\n",
       "      <td>0000210VSF</td>\n",
       "    </tr>\n",
       "    <tr>\n",
       "      <th>17</th>\n",
       "      <td>SMITH BROS. WRECKER SERVICE</td>\n",
       "      <td>NaN</td>\n",
       "      <td>icer:   GLEN SMITH                            ...</td>\n",
       "      <td>10842 FM 2138 N, JACKSONVILLE, TX. 75766</td>\n",
       "      <td>005029369C</td>\n",
       "    </tr>\n",
       "    <tr>\n",
       "      <th>18</th>\n",
       "      <td>SMITH TOWING &amp; RECOVERY, LLC</td>\n",
       "      <td>Active</td>\n",
       "      <td>9362693915</td>\n",
       "      <td>12741 HWY 84E, JOAQUIN, TX. 75954</td>\n",
       "      <td>006410509C</td>\n",
       "    </tr>\n",
       "    <tr>\n",
       "      <th>19</th>\n",
       "      <td>SMITH TOWING &amp; RECOVERY,LLC</td>\n",
       "      <td>Active</td>\n",
       "      <td>9362693915</td>\n",
       "      <td>12741 HWY 84 E, JOAQUIN, TX. 75954</td>\n",
       "      <td>0643482VSF</td>\n",
       "    </tr>\n",
       "  </tbody>\n",
       "</table>\n",
       "</div>"
      ],
      "text/plain": [
       "                            business name license status  \\\n",
       "0                        AUGUSTUS E SMITH         Active   \n",
       "1                       B.D. SMITH TOWING         Active   \n",
       "2                     BARRY MICHAEL SMITH         Active   \n",
       "3                             HEATH SMITH        Expired   \n",
       "4                             HEATH SMITH        Expired   \n",
       "5                      HYSMITH AUTOMOTIVE            NaN   \n",
       "6   HYSMITH AUTOMOTIVE & TRUCK REPAIR INC            NaN   \n",
       "7   HYSMITH AUTOMOTIVE & TRUCK REPAIR INC            NaN   \n",
       "8                      JEFF & WENDY SMITH            NaN   \n",
       "9                              JEFF SMITH         Active   \n",
       "10                           LUTHER SMITH         Active   \n",
       "11                          MAURICE SMITH         Active   \n",
       "12                   METRO LOCKSMITHS INC            NaN   \n",
       "13                            RICKY SMITH      Suspended   \n",
       "14                            RICKY SMITH      Suspended   \n",
       "15                          SAMMY L SMITH        Expired   \n",
       "16             SMITH BRO. WRECKER SERVICE            NaN   \n",
       "17            SMITH BROS. WRECKER SERVICE            NaN   \n",
       "18           SMITH TOWING & RECOVERY, LLC         Active   \n",
       "19            SMITH TOWING & RECOVERY,LLC         Active   \n",
       "\n",
       "                                         phone number  \\\n",
       "0                                          9032276464   \n",
       "1                                          8173330706   \n",
       "2                                          8066544404   \n",
       "3                                        940-552-0687   \n",
       "4                                          9405520687   \n",
       "5   icer:   ASHLEY ERIN HYSMITH                   ...   \n",
       "6   icer:   WILLIAM THOMAS HYSMITH                ...   \n",
       "7   icer:   ASHLEY ERIN HYSMITH                   ...   \n",
       "8   icer:   WENDY SMITH                           ...   \n",
       "9                                          8324354670   \n",
       "10                                      281-838-9435    \n",
       "11                                         7134544462   \n",
       "12  icer:   SOCORRO M ARREOLA                     ...   \n",
       "13                                         9364997917   \n",
       "14                                         9364997917   \n",
       "15                                         3252159496   \n",
       "16  icer:   GLEN SMITH                            ...   \n",
       "17  icer:   GLEN SMITH                            ...   \n",
       "18                                         9362693915   \n",
       "19                                         9362693915   \n",
       "\n",
       "                                  physical address TDLR Number  \n",
       "0                 103 N MAIN ST, BONHAM, TX. 75418  006507931C  \n",
       "1   13619 BRETT JACKSON RD., FORT WORTH, TX. 76179  006179570C  \n",
       "2            4501 W CEMETERY RD, CANYON, TX. 79015  006502097C  \n",
       "3            1529  WILBARGER ST, VERNON, TX. 76384  006494912C  \n",
       "4            1529  WILBARGER ST, VERNON, TX. 76384  0649468VSF  \n",
       "5            1210 US 380 BYPASS, GRAHAM, TX. 76450  006448786C  \n",
       "6               927  LOVING HWY, GRAHAM, TX. 76450  0648444VSF  \n",
       "7               1210 380 BYPASS, GRAHAM, TX. 76450  0651667VSF  \n",
       "8         10842 FM 2138 N, JACKSONVILLE, TX. 75766  006017767C  \n",
       "9               4338  HARVEY RD, CROSBY, TX. 77532  006495492C  \n",
       "10            20001  FM 2100 RD, CROSBY, TX. 77532  006518521C  \n",
       "11    5505  SAVANNAH WOODS LN, ROSHARON, TX. 77583  006521662C  \n",
       "12                200 S WALL ST, ITASCA, TX. 76055  006482451C  \n",
       "13               115 CARTWRIGHT, CONROE, TX. 77301  0646264VSF  \n",
       "14        11426  FOSTORIA RD, CLEVELAND, TX. 77328  0650690VSF  \n",
       "15              355 N 16TH ST, JUNCTION, TX. 76849  006505010C  \n",
       "16        10842 FM 2138 N, JACKSONVILLE, TX. 75766  0000210VSF  \n",
       "17        10842 FM 2138 N, JACKSONVILLE, TX. 75766  005029369C  \n",
       "18               12741 HWY 84E, JOAQUIN, TX. 75954  006410509C  \n",
       "19              12741 HWY 84 E, JOAQUIN, TX. 75954  0643482VSF  "
      ]
     },
     "execution_count": 16,
     "metadata": {},
     "output_type": "execute_result"
    }
   ],
   "source": [
    "def do_the_stuff_right_and_for_all(row):\n",
    "    driver.get('https://www.tdlr.texas.gov/tools_search/mccs_display.asp?mcrnumber=' + row['TDLR Number'])\n",
    "    doc = BeautifulSoup(driver.page_source, 'html.parser')\n",
    "    return pd.Series({\n",
    "        'business name': doc.find_all('td')[5].text[8:],\n",
    "        'phone number': doc.find_all('td')[9].text[9:],\n",
    "        'license status': doc.find_all('td')[12].text[9:],\n",
    "        'physical address': doc.find('strong', string='Physical:').find_next_siblings(text=True)[0].strip() + ', ' + doc.find('strong', string='Physical:').find_next_siblings(text=True)[1].strip()\n",
    "    })\n",
    "\n",
    "df = pd.read_csv('tow-trucks.csv')\n",
    "df = df.apply(do_the_stuff_right_and_for_all, axis=1).join(df)\n",
    "\n",
    "df.to_csv('trucks-results-all.csv', index=False)\n",
    "pd.read_csv('trucks-results-all.csv')"
   ]
  },
  {
   "cell_type": "code",
   "execution_count": 17,
   "metadata": {
    "collapsed": true
   },
   "outputs": [],
   "source": [
    "driver.close()"
   ]
  }
 ],
 "metadata": {
  "kernelspec": {
   "display_name": "Python 3",
   "language": "python",
   "name": "python3"
  },
  "language_info": {
   "codemirror_mode": {
    "name": "ipython",
    "version": 3
   },
   "file_extension": ".py",
   "mimetype": "text/x-python",
   "name": "python",
   "nbconvert_exporter": "python",
   "pygments_lexer": "ipython3",
   "version": "3.6.1"
  }
 },
 "nbformat": 4,
 "nbformat_minor": 2
}
