{
 "cells": [
  {
   "cell_type": "markdown",
   "metadata": {},
   "source": [
    "# School inventory\n",
    "\n",
    "Inventory report from public schools in Pitsburgh.\n",
    "\n",
    "Source: [Muchrock](https://www.muckrock.com/foi/pittsburgh-130/pittsburgh-public-schools-25134/), PDF: [Inventory_Report.pdf](Inventory_Report.pdf)\n",
    "\n",
    "## Step 1\n",
    "\n",
    "Convert the PDF pages into a dataframe using [Python binding for Tabula](https://github.com/chezou/tabula-py):"
   ]
  },
  {
   "cell_type": "code",
   "execution_count": 1,
   "metadata": {
    "collapsed": true
   },
   "outputs": [],
   "source": [
    "import tabula"
   ]
  },
  {
   "cell_type": "code",
   "execution_count": 2,
   "metadata": {},
   "outputs": [
    {
     "data": {
      "text/html": [
       "<div>\n",
       "<style>\n",
       "    .dataframe thead tr:only-child th {\n",
       "        text-align: right;\n",
       "    }\n",
       "\n",
       "    .dataframe thead th {\n",
       "        text-align: left;\n",
       "    }\n",
       "\n",
       "    .dataframe tbody tr th {\n",
       "        vertical-align: top;\n",
       "    }\n",
       "</style>\n",
       "<table border=\"1\" class=\"dataframe\">\n",
       "  <thead>\n",
       "    <tr style=\"text-align: right;\">\n",
       "      <th></th>\n",
       "      <th>Maven ID</th>\n",
       "      <th>Equipment Type</th>\n",
       "      <th>Make</th>\n",
       "      <th>Model</th>\n",
       "      <th>Serial Number</th>\n",
       "      <th>Tag #</th>\n",
       "    </tr>\n",
       "  </thead>\n",
       "  <tbody>\n",
       "    <tr>\n",
       "      <th>0</th>\n",
       "      <td>234114</td>\n",
       "      <td>ALL_IN_ONE</td>\n",
       "      <td>Apple</td>\n",
       "      <td>2124</td>\n",
       "      <td>W87010KBWH5</td>\n",
       "      <td>none</td>\n",
       "    </tr>\n",
       "    <tr>\n",
       "      <th>1</th>\n",
       "      <td>232482</td>\n",
       "      <td>Computer</td>\n",
       "      <td>Dell</td>\n",
       "      <td>n/a</td>\n",
       "      <td>none</td>\n",
       "      <td>none</td>\n",
       "    </tr>\n",
       "    <tr>\n",
       "      <th>2</th>\n",
       "      <td>232889</td>\n",
       "      <td>Computer</td>\n",
       "      <td>Dell</td>\n",
       "      <td>n/a</td>\n",
       "      <td>none</td>\n",
       "      <td>none</td>\n",
       "    </tr>\n",
       "    <tr>\n",
       "      <th>3</th>\n",
       "      <td>232890</td>\n",
       "      <td>Computer</td>\n",
       "      <td>Dell</td>\n",
       "      <td>n/a</td>\n",
       "      <td>none</td>\n",
       "      <td>none</td>\n",
       "    </tr>\n",
       "    <tr>\n",
       "      <th>4</th>\n",
       "      <td>232901</td>\n",
       "      <td>Computer</td>\n",
       "      <td>Dell</td>\n",
       "      <td>n/a</td>\n",
       "      <td>none</td>\n",
       "      <td>none</td>\n",
       "    </tr>\n",
       "  </tbody>\n",
       "</table>\n",
       "</div>"
      ],
      "text/plain": [
       "  Maven ID Equipment Type   Make Model Serial Number Tag #\n",
       "0   234114     ALL_IN_ONE  Apple  2124   W87010KBWH5  none\n",
       "1   232482       Computer   Dell   n/a          none  none\n",
       "2   232889       Computer   Dell   n/a          none  none\n",
       "3   232890       Computer   Dell   n/a          none  none\n",
       "4   232901       Computer   Dell   n/a          none  none"
      ]
     },
     "execution_count": 2,
     "metadata": {},
     "output_type": "execute_result"
    }
   ],
   "source": [
    "df = tabula.read_pdf('Inventory_Report.pdf', pages='all')\n",
    "df.head()"
   ]
  },
  {
   "cell_type": "markdown",
   "metadata": {},
   "source": [
    "## Step 2\n",
    "\n",
    "Playing around with the data …"
   ]
  },
  {
   "cell_type": "code",
   "execution_count": 3,
   "metadata": {
    "collapsed": true
   },
   "outputs": [],
   "source": [
    "import glob"
   ]
  },
  {
   "cell_type": "code",
   "execution_count": 4,
   "metadata": {},
   "outputs": [
    {
     "data": {
      "text/plain": [
       "Computer          179\n",
       "Printer           148\n",
       "MISC              141\n",
       "Laptop             65\n",
       "LCD                58\n",
       "Networking         30\n",
       "Monitor            13\n",
       "Equipment Type     12\n",
       "Scanner             7\n",
       "Copier              4\n",
       "Fax                 4\n",
       "ALL_IN_ONE          1\n",
       "Name: Equipment Type, dtype: int64"
      ]
     },
     "execution_count": 4,
     "metadata": {},
     "output_type": "execute_result"
    }
   ],
   "source": [
    "# ranking equipment types\n",
    "df['Equipment Type'].value_counts()"
   ]
  },
  {
   "cell_type": "code",
   "execution_count": 5,
   "metadata": {},
   "outputs": [
    {
     "data": {
      "text/plain": [
       "Dell              252\n",
       "HP                198\n",
       "RSR                33\n",
       "3M                 23\n",
       "Epson              16\n",
       "Allied Telesyn     14\n",
       "Make               12\n",
       "Mario               9\n",
       "Tandberg            9\n",
       "Heathkit            8\n",
       "Name: Make, dtype: int64"
      ]
     },
     "execution_count": 5,
     "metadata": {},
     "output_type": "execute_result"
    }
   ],
   "source": [
    "# ranking brands\n",
    "df['Make'].value_counts().head(10)"
   ]
  },
  {
   "cell_type": "code",
   "execution_count": 6,
   "metadata": {},
   "outputs": [
    {
     "data": {
      "text/plain": [
       "Dell       187\n",
       "HP          46\n",
       "Mario        9\n",
       "Digital      1\n",
       "IBM          1\n",
       "Name: Make, dtype: int64"
      ]
     },
     "execution_count": 6,
     "metadata": {},
     "output_type": "execute_result"
    }
   ],
   "source": [
    "# ranking computer/laptop brands\n",
    "df[df['Equipment Type'].isin(['Computer', 'Laptop'])]['Make'].value_counts()"
   ]
  },
  {
   "cell_type": "code",
   "execution_count": 7,
   "metadata": {},
   "outputs": [
    {
     "data": {
      "text/plain": [
       "Optiplex 740      45\n",
       "Optiplex GX260    37\n",
       "Optiplex 380      21\n",
       "n/a               19\n",
       "OpitPlex 740      16\n",
       "Latitude E5400    12\n",
       "Compaq 6515b       9\n",
       "Optiplex GX270     8\n",
       "Optiplex 780       8\n",
       "Name: Model, dtype: int64"
      ]
     },
     "execution_count": 7,
     "metadata": {},
     "output_type": "execute_result"
    }
   ],
   "source": [
    "#ranking computer/laptop models by Dell and HP\n",
    "df[df['Equipment Type'].isin(['Computer', 'Laptop']) & df['Make'].isin(['Dell', 'HP'])]['Model'].value_counts().head(9)"
   ]
  }
 ],
 "metadata": {
  "kernelspec": {
   "display_name": "Python 3",
   "language": "python",
   "name": "python3"
  },
  "language_info": {
   "codemirror_mode": {
    "name": "ipython",
    "version": 3
   },
   "file_extension": ".py",
   "mimetype": "text/x-python",
   "name": "python",
   "nbconvert_exporter": "python",
   "pygments_lexer": "ipython3",
   "version": "3.6.1"
  }
 },
 "nbformat": 4,
 "nbformat_minor": 2
}
