{
 "cells": [
  {
   "cell_type": "markdown",
   "metadata": {},
   "source": [
    "# Walmart shoplifters\n",
    "\n",
    "Police reports about arrests pertaining the Walmart Supercenter on 279 Troy Road in Rensselaer, New York.\n",
    "\n",
    "Source: [Muchrock](https://www.muckrock.com/foi/east-greenbush-23384/walmart-correspondence-and-records-38074/), PDF: [7-6-17_MR38074_RES.pdf](7-6-17_MR38074_RES.pdf)\n",
    "\n",
    "## Step 1\n",
    "\n",
    "Convert the PDF pages into PNGs in the command line using Imagemagick:"
   ]
  },
  {
   "cell_type": "code",
   "execution_count": 1,
   "metadata": {
    "collapsed": true
   },
   "outputs": [],
   "source": [
    "!convert -density 300 7-6-17_MR38074_RES.pdf output/output.png"
   ]
  },
  {
   "cell_type": "markdown",
   "metadata": {},
   "source": [
    "## Step 2\n",
    "\n",
    "Convert the PNGs into TXT files in the command line using Tesseract (and Kull):"
   ]
  },
  {
   "cell_type": "code",
   "execution_count": 2,
   "metadata": {
    "collapsed": true
   },
   "outputs": [],
   "source": [
    "import glob"
   ]
  },
  {
   "cell_type": "code",
   "execution_count": 3,
   "metadata": {
    "collapsed": true
   },
   "outputs": [],
   "source": [
    "pdfs = glob.glob('output/output-*.png')\n",
    "pdfs.remove('output/output-0.png')\n",
    "pdfs.remove('output/output-33.png')\n",
    "pdfs.remove('output/output-70.png')"
   ]
  },
  {
   "cell_type": "code",
   "execution_count": 4,
   "metadata": {
    "scrolled": true
   },
   "outputs": [
    {
     "name": "stdout",
     "output_type": "stream",
     "text": [
      "Tesseract Open Source OCR Engine v3.05.01 with Leptonica\n",
      "Warning. Invalid resolution 0 dpi. Using 70 instead.\n",
      "Tesseract Open Source OCR Engine v3.05.01 with Leptonica\n",
      "Warning. Invalid resolution 0 dpi. Using 70 instead.\n",
      "Tesseract Open Source OCR Engine v3.05.01 with Leptonica\n",
      "Warning. Invalid resolution 0 dpi. Using 70 instead.\n",
      "Tesseract Open Source OCR Engine v3.05.01 with Leptonica\n",
      "Warning. Invalid resolution 0 dpi. Using 70 instead.\n",
      "Tesseract Open Source OCR Engine v3.05.01 with Leptonica\n",
      "Warning. Invalid resolution 0 dpi. Using 70 instead.\n",
      "Tesseract Open Source OCR Engine v3.05.01 with Leptonica\n",
      "Warning. Invalid resolution 0 dpi. Using 70 instead.\n",
      "Tesseract Open Source OCR Engine v3.05.01 with Leptonica\n",
      "Warning. Invalid resolution 0 dpi. Using 70 instead.\n",
      "Tesseract Open Source OCR Engine v3.05.01 with Leptonica\n",
      "Warning. Invalid resolution 0 dpi. Using 70 instead.\n",
      "Tesseract Open Source OCR Engine v3.05.01 with Leptonica\n",
      "Warning. Invalid resolution 0 dpi. Using 70 instead.\n",
      "Tesseract Open Source OCR Engine v3.05.01 with Leptonica\n",
      "Warning. Invalid resolution 0 dpi. Using 70 instead.\n",
      "Tesseract Open Source OCR Engine v3.05.01 with Leptonica\n",
      "Warning. Invalid resolution 0 dpi. Using 70 instead.\n",
      "Tesseract Open Source OCR Engine v3.05.01 with Leptonica\n",
      "Warning. Invalid resolution 0 dpi. Using 70 instead.\n",
      "Tesseract Open Source OCR Engine v3.05.01 with Leptonica\n",
      "Warning. Invalid resolution 0 dpi. Using 70 instead.\n",
      "Tesseract Open Source OCR Engine v3.05.01 with Leptonica\n",
      "Warning. Invalid resolution 0 dpi. Using 70 instead.\n",
      "Tesseract Open Source OCR Engine v3.05.01 with Leptonica\n",
      "Warning. Invalid resolution 0 dpi. Using 70 instead.\n",
      "Tesseract Open Source OCR Engine v3.05.01 with Leptonica\n",
      "Warning. Invalid resolution 0 dpi. Using 70 instead.\n",
      "Tesseract Open Source OCR Engine v3.05.01 with Leptonica\n",
      "Warning. Invalid resolution 0 dpi. Using 70 instead.\n",
      "Tesseract Open Source OCR Engine v3.05.01 with Leptonica\n",
      "Warning. Invalid resolution 0 dpi. Using 70 instead.\n",
      "Tesseract Open Source OCR Engine v3.05.01 with Leptonica\n",
      "Warning. Invalid resolution 0 dpi. Using 70 instead.\n",
      "Tesseract Open Source OCR Engine v3.05.01 with Leptonica\n",
      "Warning. Invalid resolution 0 dpi. Using 70 instead.\n",
      "Tesseract Open Source OCR Engine v3.05.01 with Leptonica\n",
      "Warning. Invalid resolution 0 dpi. Using 70 instead.\n",
      "Tesseract Open Source OCR Engine v3.05.01 with Leptonica\n",
      "Warning. Invalid resolution 0 dpi. Using 70 instead.\n",
      "Tesseract Open Source OCR Engine v3.05.01 with Leptonica\n",
      "Warning. Invalid resolution 0 dpi. Using 70 instead.\n",
      "Tesseract Open Source OCR Engine v3.05.01 with Leptonica\n",
      "Warning. Invalid resolution 0 dpi. Using 70 instead.\n",
      "Tesseract Open Source OCR Engine v3.05.01 with Leptonica\n",
      "Warning. Invalid resolution 0 dpi. Using 70 instead.\n",
      "Tesseract Open Source OCR Engine v3.05.01 with Leptonica\n",
      "Warning. Invalid resolution 0 dpi. Using 70 instead.\n",
      "Tesseract Open Source OCR Engine v3.05.01 with Leptonica\n",
      "Warning. Invalid resolution 0 dpi. Using 70 instead.\n",
      "Tesseract Open Source OCR Engine v3.05.01 with Leptonica\n",
      "Warning. Invalid resolution 0 dpi. Using 70 instead.\n",
      "Tesseract Open Source OCR Engine v3.05.01 with Leptonica\n",
      "Warning. Invalid resolution 0 dpi. Using 70 instead.\n",
      "Tesseract Open Source OCR Engine v3.05.01 with Leptonica\n",
      "Warning. Invalid resolution 0 dpi. Using 70 instead.\n",
      "Tesseract Open Source OCR Engine v3.05.01 with Leptonica\n",
      "Warning. Invalid resolution 0 dpi. Using 70 instead.\n",
      "Tesseract Open Source OCR Engine v3.05.01 with Leptonica\n",
      "Warning. Invalid resolution 0 dpi. Using 70 instead.\n",
      "Tesseract Open Source OCR Engine v3.05.01 with Leptonica\n",
      "Warning. Invalid resolution 0 dpi. Using 70 instead.\n",
      "Tesseract Open Source OCR Engine v3.05.01 with Leptonica\n",
      "Warning. Invalid resolution 0 dpi. Using 70 instead.\n",
      "Tesseract Open Source OCR Engine v3.05.01 with Leptonica\n",
      "Warning. Invalid resolution 0 dpi. Using 70 instead.\n",
      "Tesseract Open Source OCR Engine v3.05.01 with Leptonica\n",
      "Warning. Invalid resolution 0 dpi. Using 70 instead.\n",
      "Tesseract Open Source OCR Engine v3.05.01 with Leptonica\n",
      "Warning. Invalid resolution 0 dpi. Using 70 instead.\n",
      "Tesseract Open Source OCR Engine v3.05.01 with Leptonica\n",
      "Warning. Invalid resolution 0 dpi. Using 70 instead.\n",
      "Tesseract Open Source OCR Engine v3.05.01 with Leptonica\n",
      "Warning. Invalid resolution 0 dpi. Using 70 instead.\n",
      "Tesseract Open Source OCR Engine v3.05.01 with Leptonica\n",
      "Warning. Invalid resolution 0 dpi. Using 70 instead.\n",
      "Tesseract Open Source OCR Engine v3.05.01 with Leptonica\n",
      "Warning. Invalid resolution 0 dpi. Using 70 instead.\n",
      "Tesseract Open Source OCR Engine v3.05.01 with Leptonica\n",
      "Warning. Invalid resolution 0 dpi. Using 70 instead.\n",
      "Tesseract Open Source OCR Engine v3.05.01 with Leptonica\n",
      "Warning. Invalid resolution 0 dpi. Using 70 instead.\n",
      "Tesseract Open Source OCR Engine v3.05.01 with Leptonica\n",
      "Warning. Invalid resolution 0 dpi. Using 70 instead.\n",
      "Tesseract Open Source OCR Engine v3.05.01 with Leptonica\n",
      "Warning. Invalid resolution 0 dpi. Using 70 instead.\n",
      "Tesseract Open Source OCR Engine v3.05.01 with Leptonica\n",
      "Warning. Invalid resolution 0 dpi. Using 70 instead.\n",
      "Tesseract Open Source OCR Engine v3.05.01 with Leptonica\n",
      "Warning. Invalid resolution 0 dpi. Using 70 instead.\n",
      "Tesseract Open Source OCR Engine v3.05.01 with Leptonica\n",
      "Warning. Invalid resolution 0 dpi. Using 70 instead.\n",
      "Tesseract Open Source OCR Engine v3.05.01 with Leptonica\n",
      "Warning. Invalid resolution 0 dpi. Using 70 instead.\n",
      "Tesseract Open Source OCR Engine v3.05.01 with Leptonica\n",
      "Warning. Invalid resolution 0 dpi. Using 70 instead.\n",
      "Tesseract Open Source OCR Engine v3.05.01 with Leptonica\n",
      "Warning. Invalid resolution 0 dpi. Using 70 instead.\n",
      "Tesseract Open Source OCR Engine v3.05.01 with Leptonica\n",
      "Warning. Invalid resolution 0 dpi. Using 70 instead.\n",
      "Tesseract Open Source OCR Engine v3.05.01 with Leptonica\n",
      "Warning. Invalid resolution 0 dpi. Using 70 instead.\n",
      "Tesseract Open Source OCR Engine v3.05.01 with Leptonica\n",
      "Warning. Invalid resolution 0 dpi. Using 70 instead.\n",
      "Tesseract Open Source OCR Engine v3.05.01 with Leptonica\n",
      "Warning. Invalid resolution 0 dpi. Using 70 instead.\n",
      "Tesseract Open Source OCR Engine v3.05.01 with Leptonica\n",
      "Warning. Invalid resolution 0 dpi. Using 70 instead.\n",
      "Tesseract Open Source OCR Engine v3.05.01 with Leptonica\n",
      "Warning. Invalid resolution 0 dpi. Using 70 instead.\n",
      "Tesseract Open Source OCR Engine v3.05.01 with Leptonica\n",
      "Warning. Invalid resolution 0 dpi. Using 70 instead.\n",
      "Tesseract Open Source OCR Engine v3.05.01 with Leptonica\n",
      "Warning. Invalid resolution 0 dpi. Using 70 instead.\n",
      "Tesseract Open Source OCR Engine v3.05.01 with Leptonica\n",
      "Warning. Invalid resolution 0 dpi. Using 70 instead.\n",
      "Tesseract Open Source OCR Engine v3.05.01 with Leptonica\n",
      "Warning. Invalid resolution 0 dpi. Using 70 instead.\n",
      "Tesseract Open Source OCR Engine v3.05.01 with Leptonica\n",
      "Warning. Invalid resolution 0 dpi. Using 70 instead.\n",
      "Tesseract Open Source OCR Engine v3.05.01 with Leptonica\n",
      "Warning. Invalid resolution 0 dpi. Using 70 instead.\n",
      "Tesseract Open Source OCR Engine v3.05.01 with Leptonica\n",
      "Warning. Invalid resolution 0 dpi. Using 70 instead.\n",
      "Tesseract Open Source OCR Engine v3.05.01 with Leptonica\n",
      "Warning. Invalid resolution 0 dpi. Using 70 instead.\n",
      "Tesseract Open Source OCR Engine v3.05.01 with Leptonica\n",
      "Warning. Invalid resolution 0 dpi. Using 70 instead.\n",
      "Tesseract Open Source OCR Engine v3.05.01 with Leptonica\n",
      "Warning. Invalid resolution 0 dpi. Using 70 instead.\n",
      "Tesseract Open Source OCR Engine v3.05.01 with Leptonica\n",
      "Warning. Invalid resolution 0 dpi. Using 70 instead.\n",
      "Tesseract Open Source OCR Engine v3.05.01 with Leptonica\n",
      "Warning. Invalid resolution 0 dpi. Using 70 instead.\n",
      "Tesseract Open Source OCR Engine v3.05.01 with Leptonica\n",
      "Warning. Invalid resolution 0 dpi. Using 70 instead.\n",
      "Tesseract Open Source OCR Engine v3.05.01 with Leptonica\n",
      "Warning. Invalid resolution 0 dpi. Using 70 instead.\n",
      "Tesseract Open Source OCR Engine v3.05.01 with Leptonica\n",
      "Warning. Invalid resolution 0 dpi. Using 70 instead.\n",
      "Tesseract Open Source OCR Engine v3.05.01 with Leptonica\n",
      "Warning. Invalid resolution 0 dpi. Using 70 instead.\n",
      "Tesseract Open Source OCR Engine v3.05.01 with Leptonica\n",
      "Warning. Invalid resolution 0 dpi. Using 70 instead.\n",
      "Tesseract Open Source OCR Engine v3.05.01 with Leptonica\n",
      "Warning. Invalid resolution 0 dpi. Using 70 instead.\n"
     ]
    },
    {
     "name": "stdout",
     "output_type": "stream",
     "text": [
      "Tesseract Open Source OCR Engine v3.05.01 with Leptonica\n",
      "Warning. Invalid resolution 0 dpi. Using 70 instead.\n",
      "Tesseract Open Source OCR Engine v3.05.01 with Leptonica\n",
      "Warning. Invalid resolution 0 dpi. Using 70 instead.\n",
      "Tesseract Open Source OCR Engine v3.05.01 with Leptonica\n",
      "Warning. Invalid resolution 0 dpi. Using 70 instead.\n",
      "Tesseract Open Source OCR Engine v3.05.01 with Leptonica\n",
      "Warning. Invalid resolution 0 dpi. Using 70 instead.\n",
      "Tesseract Open Source OCR Engine v3.05.01 with Leptonica\n",
      "Warning. Invalid resolution 0 dpi. Using 70 instead.\n",
      "Tesseract Open Source OCR Engine v3.05.01 with Leptonica\n",
      "Warning. Invalid resolution 0 dpi. Using 70 instead.\n",
      "Tesseract Open Source OCR Engine v3.05.01 with Leptonica\n",
      "Warning. Invalid resolution 0 dpi. Using 70 instead.\n",
      "Tesseract Open Source OCR Engine v3.05.01 with Leptonica\n",
      "Warning. Invalid resolution 0 dpi. Using 70 instead.\n",
      "Tesseract Open Source OCR Engine v3.05.01 with Leptonica\n",
      "Warning. Invalid resolution 0 dpi. Using 70 instead.\n",
      "Tesseract Open Source OCR Engine v3.05.01 with Leptonica\n",
      "Warning. Invalid resolution 0 dpi. Using 70 instead.\n"
     ]
    }
   ],
   "source": [
    "for pdf in pdfs:\n",
    "    !cp uznfile.uzn output/uznfile.uzn\n",
    "    !mv output/uznfile.uzn {pdf[:-4]}.uzn\n",
    "    !tesseract {pdf} {pdf[:-4]} -c tessedit_char_blacklist=ﬁﬂ -psm 4\n",
    "    !rm -f {pdf[:-4]}.uzn"
   ]
  },
  {
   "cell_type": "markdown",
   "metadata": {},
   "source": [
    "## Step 3\n",
    "\n",
    "Import the TXT files into Python, use RegEx to clean up the mess and get all the ages. Put them into a list and eventually into a dataframe:"
   ]
  },
  {
   "cell_type": "code",
   "execution_count": 5,
   "metadata": {
    "collapsed": true
   },
   "outputs": [],
   "source": [
    "import re\n",
    "import pandas as pd\n",
    "%matplotlib inline"
   ]
  },
  {
   "cell_type": "code",
   "execution_count": 6,
   "metadata": {},
   "outputs": [
    {
     "data": {
      "text/html": [
       "<div>\n",
       "<style>\n",
       "    .dataframe thead tr:only-child th {\n",
       "        text-align: right;\n",
       "    }\n",
       "\n",
       "    .dataframe thead th {\n",
       "        text-align: left;\n",
       "    }\n",
       "\n",
       "    .dataframe tbody tr th {\n",
       "        vertical-align: top;\n",
       "    }\n",
       "</style>\n",
       "<table border=\"1\" class=\"dataframe\">\n",
       "  <thead>\n",
       "    <tr style=\"text-align: right;\">\n",
       "      <th></th>\n",
       "      <th>age</th>\n",
       "    </tr>\n",
       "  </thead>\n",
       "  <tbody>\n",
       "    <tr>\n",
       "      <th>0</th>\n",
       "      <td>36</td>\n",
       "    </tr>\n",
       "    <tr>\n",
       "      <th>1</th>\n",
       "      <td>33</td>\n",
       "    </tr>\n",
       "    <tr>\n",
       "      <th>2</th>\n",
       "      <td>53</td>\n",
       "    </tr>\n",
       "    <tr>\n",
       "      <th>3</th>\n",
       "      <td>53</td>\n",
       "    </tr>\n",
       "    <tr>\n",
       "      <th>4</th>\n",
       "      <td>16</td>\n",
       "    </tr>\n",
       "  </tbody>\n",
       "</table>\n",
       "</div>"
      ],
      "text/plain": [
       "   age\n",
       "0   36\n",
       "1   33\n",
       "2   53\n",
       "3   53\n",
       "4   16"
      ]
     },
     "execution_count": 6,
     "metadata": {},
     "output_type": "execute_result"
    }
   ],
   "source": [
    "ages=[]\n",
    "\n",
    "for pdf in pdfs:\n",
    "    with open(pdf[:-4] + '.txt', 'r') as myfile:\n",
    "        lines = myfile.read().splitlines()\n",
    "    ages.append(re.search('(\\d{1,3})\\s?Y', lines[0]).group(1))\n",
    "\n",
    "df = pd.DataFrame(ages, columns=['age'])\n",
    "df['age'] = df['age'].astype('int')\n",
    "\n",
    "df.head()"
   ]
  },
  {
   "cell_type": "markdown",
   "metadata": {},
   "source": [
    "# Step 4\n",
    "\n",
    "Playing around: How are the shoplifters' ages distributed?"
   ]
  },
  {
   "cell_type": "code",
   "execution_count": 7,
   "metadata": {},
   "outputs": [
    {
     "data": {
      "text/plain": [
       "<matplotlib.axes._subplots.AxesSubplot at 0x112f574e0>"
      ]
     },
     "execution_count": 7,
     "metadata": {},
     "output_type": "execute_result"
    },
    {
     "data": {
      "image/png": "[encoded data removed]",
      "text/plain": [
       "<matplotlib.figure.Figure at 0x112f4b8d0>"
      ]
     },
     "metadata": {},
     "output_type": "display_data"
    }
   ],
   "source": [
    "df['age'].hist(bins=20)"
   ]
  }
 ],
 "metadata": {
  "kernelspec": {
   "display_name": "Python 3",
   "language": "python",
   "name": "python3"
  },
  "language_info": {
   "codemirror_mode": {
    "name": "ipython",
    "version": 3
   },
   "file_extension": ".py",
   "mimetype": "text/x-python",
   "name": "python",
   "nbconvert_exporter": "python",
   "pygments_lexer": "ipython3",
   "version": "3.6.1"
  }
 },
 "nbformat": 4,
 "nbformat_minor": 2
}
