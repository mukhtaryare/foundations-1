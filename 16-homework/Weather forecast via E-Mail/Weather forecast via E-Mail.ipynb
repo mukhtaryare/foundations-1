{
 "cells": [
  {
   "cell_type": "markdown",
   "metadata": {},
   "source": [
    "# Weather forecast via E-Mail\n",
    "\n",
    "This script uses the [Dark Sky Forecast API](https://darksky.net/dev/) to send an email every morning describing the weather that day."
   ]
  },
  {
   "cell_type": "code",
   "execution_count": 1,
   "metadata": {
    "collapsed": true
   },
   "outputs": [],
   "source": [
    "import requests\n",
    "import time"
   ]
  },
  {
   "cell_type": "code",
   "execution_count": 2,
   "metadata": {
    "collapsed": true
   },
   "outputs": [],
   "source": [
    "# importing the weather forecast for NYC\n",
    "\n",
    "url = 'https://api.darksky.net/forecast/XXXXXXXXXXXXXXXXXXXXXXXXXXXXXXXX/40.8075355,-73.9647667?units=si'\n",
    "response = requests.get(url)\n",
    "data = response.json()"
   ]
  },
  {
   "cell_type": "code",
   "execution_count": 3,
   "metadata": {},
   "outputs": [
    {
     "data": {
      "text/plain": [
       "{'rain': 0.2108,\n",
       " 'rain_warn': '',\n",
       " 'summary': 'Clear',\n",
       " 'temp_cur': 31.55,\n",
       " 'temp_feel': '',\n",
       " 'temp_max': 31.99,\n",
       " 'temp_min': 22.7}"
      ]
     },
     "execution_count": 3,
     "metadata": {},
     "output_type": "execute_result"
    }
   ],
   "source": [
    "# get the data needed for the email\n",
    "\n",
    "weather = {\n",
    "    'temp_cur': data['currently']['temperature'],\n",
    "    'summary': data['currently']['summary'],\n",
    "    'temp_feel': '',\n",
    "    'temp_max': data['daily']['data'][0]['temperatureMax'],\n",
    "    'temp_min': data['daily']['data'][0]['temperatureMin'],\n",
    "    'rain': data['daily']['data'][0]['precipIntensity'],\n",
    "    'rain_warn': ''\n",
    "}\n",
    "\n",
    "weather"
   ]
  },
  {
   "cell_type": "code",
   "execution_count": 4,
   "metadata": {},
   "outputs": [
    {
     "data": {
      "text/plain": [
       "{'rain': 0.2108,\n",
       " 'rain_warn': \" It's going to rain so bring your umbrella!\",\n",
       " 'summary': 'Clear',\n",
       " 'temp_cur': 31.55,\n",
       " 'temp_feel': 'hot',\n",
       " 'temp_max': 31.99,\n",
       " 'temp_min': 22.7}"
      ]
     },
     "execution_count": 4,
     "metadata": {},
     "output_type": "execute_result"
    }
   ],
   "source": [
    "# create strings for temperature and rain\n",
    "\n",
    "if weather['temp_max'] > 27:\n",
    "    weather['temp_feel'] = 'hot'\n",
    "elif weather['temp_max'] > 21:\n",
    "    weather['temp_feel'] = 'warm'\n",
    "elif weather['temp_max'] > 10:\n",
    "    weather['temp_feel'] = 'moderate'\n",
    "else:\n",
    "    weather['temp_feel'] = 'cold'\n",
    "\n",
    "if weather['rain'] > 0:\n",
    "    weather['rain_warn'] = ' It\\'s going to rain so bring your umbrella!'\n",
    "\n",
    "weather"
   ]
  },
  {
   "cell_type": "code",
   "execution_count": 5,
   "metadata": {},
   "outputs": [
    {
     "data": {
      "text/plain": [
       "\"Right now it is 31.55 degrees Celsius out and Clear. Today will be hot with a high of 31.99 and a low of 22.7 degrees. It's going to rain so bring your umbrella!\""
      ]
     },
     "execution_count": 5,
     "metadata": {},
     "output_type": "execute_result"
    }
   ],
   "source": [
    "# describe the weather\n",
    "\n",
    "body = 'Right now it is ' + str(weather['temp_cur']) + ' degrees Celsius out and ' + weather['summary'] + '. Today will be ' + weather['temp_feel'] + ' with a high of ' + str(weather['temp_max']) + ' and a low of ' + str(weather['temp_min']) + ' degrees.' + weather['rain_warn']\n",
    "\n",
    "body"
   ]
  },
  {
   "cell_type": "code",
   "execution_count": 6,
   "metadata": {},
   "outputs": [
    {
     "data": {
      "text/plain": [
       "<Response [200]>"
      ]
     },
     "execution_count": 6,
     "metadata": {},
     "output_type": "execute_result"
    }
   ],
   "source": [
    "# send the forecast via email\n",
    "\n",
    "requests.post(\n",
    "    'https://api.mailgun.net/v3/sandboxXXXXXXXXXXXXXXXXXXXXXXXXXXXXXXXX.mailgun.org/messages',\n",
    "    auth=('api', 'key-XXXXXXXXXXXXXXXXXXXXXXXXXXXXXXXX'),\n",
    "    data={'from': 'Mailgun Sandbox <postmaster@sandboxXXXXXXXXXXXXXXXXXXXXXXXXXXXXXXXX.mailgun.org>',\n",
    "          'to': 'Marcel Pauly <XXXXXXXXXX@XXXXXXXXXX.XX>',\n",
    "          'subject': 'Weather forcast: ' + time.strftime('%B %-d, %Y'),\n",
    "          'text': body\n",
    "         }\n",
    ")"
   ]
  }
 ],
 "metadata": {
  "kernelspec": {
   "display_name": "Python 3",
   "language": "python",
   "name": "python3"
  },
  "language_info": {
   "codemirror_mode": {
    "name": "ipython",
    "version": 3
   },
   "file_extension": ".py",
   "mimetype": "text/x-python",
   "name": "python",
   "nbconvert_exporter": "python",
   "pygments_lexer": "ipython3",
   "version": "3.6.1"
  }
 },
 "nbformat": 4,
 "nbformat_minor": 2
}
